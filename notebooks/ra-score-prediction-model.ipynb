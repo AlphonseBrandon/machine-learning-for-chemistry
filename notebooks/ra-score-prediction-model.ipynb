{
  "cells": [
    {
      "cell_type": "markdown",
      "metadata": {
        "id": "view-in-github",
        "colab_type": "text"
      },
      "source": [
        "<a href=\"https://colab.research.google.com/github/AlphonseBrandon/machine-learning-for-chemistry/blob/development/notebooks/ra-score-prediction-model.ipynb\" target=\"_parent\"><img src=\"https://colab.research.google.com/assets/colab-badge.svg\" alt=\"Open In Colab\"/></a>"
      ]
    },
    {
      "cell_type": "markdown",
      "metadata": {
        "id": "wCtWqBRoen_b"
      },
      "source": [
        "## Retrosynthetic accessibility score (RAscore)"
      ]
    },
    {
      "cell_type": "code",
      "execution_count": 15,
      "metadata": {
        "cellView": "form",
        "id": "2FfwN_M4en_i"
      },
      "outputs": [],
      "source": [
        "# @title Installing Ersilia on Colab\n",
        "\n",
        "%%capture\n",
        "%env MINICONDA_INSTALLER_SCRIPT=Miniconda3-py37_4.12.0-Linux-x86_64.sh\n",
        "%env MINICONDA_PREFIX=/usr/local\n",
        "%env PYTHONPATH= \"$PYTHONPATH:/usr/local/lib/python3.7/site-packages\"\n",
        "%env PIP_ROOT_USER_ACTION=ignore\n",
        "\n",
        "!wget https://repo.anaconda.com/miniconda/$MINICONDA_INSTALLER_SCRIPT\n",
        "!chmod +x $MINICONDA_INSTALLER_SCRIPT\n",
        "!./$MINICONDA_INSTALLER_SCRIPT -b -f -p $MINICONDA_PREFIX\n",
        "\n",
        "!python -m pip install git+https://github.com/ersilia-os/ersilia.git\n",
        "!python -m pip install requests --upgrade\n",
        "import sys\n",
        "\n",
        "_ = sys.path.append(\"/usr/local/lib/python3.7/site-packages\")"
      ]
    },
    {
      "cell_type": "code",
      "source": [
        "# @title 🔗 Connect Colab to my Google Drive\n",
        "\n",
        "## Mount google drive\n",
        "\n",
        "from google.colab import drive\n",
        "drive.mount('/content/drive')"
      ],
      "metadata": {
        "cellView": "form",
        "id": "SyWH6R_Jg4_u",
        "outputId": "8eb0b121-8c53-452b-a896-55f34edab584",
        "colab": {
          "base_uri": "https://localhost:8080/"
        }
      },
      "execution_count": 3,
      "outputs": [
        {
          "output_type": "stream",
          "name": "stdout",
          "text": [
            "Mounted at /content/drive\n"
          ]
        }
      ]
    },
    {
      "cell_type": "code",
      "source": [
        "# @title Specifying my input folder\n",
        "\n",
        "# specify your input folder\n",
        "\n",
        "input_folder = \"/content/drive/MyDrive/Ersilia\"  # @param {type:\"string\"}"
      ],
      "metadata": {
        "cellView": "form",
        "id": "SgdMp0MchaJz"
      },
      "execution_count": 10,
      "outputs": []
    },
    {
      "cell_type": "code",
      "source": [
        "# @title specify my output folder\n",
        "\n",
        "output_folder = \"/content/drive/MyDrive/Ersilia\"  # @param {type:\"string\"}"
      ],
      "metadata": {
        "id": "INVczH1IhyRf"
      },
      "execution_count": 37,
      "outputs": []
    },
    {
      "cell_type": "code",
      "source": [
        "# @title specifying the name of my input csv file\n",
        "\n",
        "input_filename = \"eml_canonical\"  # @param {type:\"string\"}"
      ],
      "metadata": {
        "cellView": "form",
        "id": "ijATpqOTjYaO"
      },
      "execution_count": 16,
      "outputs": []
    },
    {
      "cell_type": "code",
      "source": [
        "# @title specifying the SMILES column name\n",
        "smiles_column = \"can_smiles\"  # @param {type:\"string\"}"
      ],
      "metadata": {
        "cellView": "form",
        "id": "I3VQyclKjpDY"
      },
      "execution_count": 17,
      "outputs": []
    },
    {
      "cell_type": "code",
      "source": [
        "# @title Extract SMILES to a list\n",
        "import pandas as pd\n",
        "\n",
        "path = \"%s/%s.csv\" % (input_folder, input_filename)\n",
        "smi_col = \"%s\" % smiles_column\n",
        "df = pd.read_csv(path)\n",
        "smiles = df[smi_col].tolist()\n",
        "\n",
        "print(\"My dataset contains\" + \" \" + str(len(smiles)) + \" \" + \"SMILES\")"
      ],
      "metadata": {
        "id": "xr-WRtE0j8HL",
        "outputId": "48d76ebc-688c-4604-8f92-56b0705f7e48",
        "colab": {
          "base_uri": "https://localhost:8080/"
        }
      },
      "execution_count": 18,
      "outputs": [
        {
          "output_type": "stream",
          "name": "stdout",
          "text": [
            "My dataset contains 442 SMILES\n"
          ]
        }
      ]
    },
    {
      "cell_type": "code",
      "source": [
        "# @title Use the Ersilia Model Hub to run predictions for your molecules.\n",
        "\n",
        "model_name = \"eos2r5a\"  # @param {type:\"string\"}"
      ],
      "metadata": {
        "id": "ddio6uLAkW3o"
      },
      "execution_count": 41,
      "outputs": []
    },
    {
      "cell_type": "code",
      "source": [
        "# @title Fetch the model\n",
        "import time\n",
        "\n",
        "begin = time.time()\n",
        "!ersilia fetch $model_name\n",
        "end = time.time()\n",
        "\n",
        "print(\"Time taken:\", round((end - begin), 2), \"seconds\")"
      ],
      "metadata": {
        "cellView": "form",
        "id": "RqTooBbtlIyE",
        "outputId": "815a15b0-03c1-4749-9bd1-328eec3399cc",
        "colab": {
          "base_uri": "https://localhost:8080/"
        }
      },
      "execution_count": 42,
      "outputs": [
        {
          "output_type": "stream",
          "name": "stdout",
          "text": [
            "\u001b[34m⬇️  Fetching model eos2r5a: retrosynthetic-accessibility\u001b[0m\n",
            "sudo: unknown user udockerusername\r\n",
            "sudo: error initializing audit plugin sudoers_audit\r\n",
            "[]\n",
            "sudo: unknown user udockerusername\n",
            "sudo: error initializing audit plugin sudoers_audit\n",
            "sudo: unknown user udockerusername\n",
            "sudo: error initializing audit plugin sudoers_audit\n",
            "sudo: unknown user udockerusername\n",
            "sudo: error initializing audit plugin sudoers_audit\n",
            "\u001b[32m🚀 Serving model eos2r5a: retrosynthetic-accessibility\u001b[0m\n",
            "\u001b[0m\n",
            "\u001b[33m   URL: http://127.0.0.1:51551\u001b[0m\n",
            "\u001b[33m   PID: 16436\u001b[0m\n",
            "\u001b[33m   SRV: conda\u001b[0m\n",
            "\u001b[0m\n",
            "\u001b[34m👉 To run model:\u001b[0m\n",
            "\u001b[34m   - run\u001b[0m\n",
            "\u001b[0m\n",
            "\u001b[34m💁 Information:\u001b[0m\n",
            "\u001b[34m   - info\u001b[0m\n",
            "sudo: unknown user udockerusername\n",
            "sudo: error initializing audit plugin sudoers_audit\n",
            "\u001b[32m⛔ Model eos2r5a closed\u001b[0m\n",
            "\u001b[32m👍 Model eos2r5a fetched successfully!\u001b[0m\n",
            "Time taken: 128.56 seconds\n"
          ]
        }
      ]
    },
    {
      "cell_type": "code",
      "source": [
        "# @title ⚙️ Serve the model\n",
        "\n",
        "# returns available APIs (calculate or predict)\n",
        "\n",
        "!ersilia serve $model_name"
      ],
      "metadata": {
        "cellView": "form",
        "id": "uipsWZXPmP2F",
        "outputId": "00324a6a-1134-446b-9e44-b1208044e239",
        "colab": {
          "base_uri": "https://localhost:8080/"
        }
      },
      "execution_count": 43,
      "outputs": [
        {
          "output_type": "stream",
          "name": "stdout",
          "text": [
            "sudo: unknown user udockerusername\r\n",
            "sudo: error initializing audit plugin sudoers_audit\r\n",
            "sudo: unknown user udockerusername\r\n",
            "sudo: error initializing audit plugin sudoers_audit\r\n",
            "\u001b[32m🚀 Serving model eos2r5a: retrosynthetic-accessibility\u001b[0m\n",
            "\u001b[0m\n",
            "\u001b[33m   URL: http://127.0.0.1:47919\u001b[0m\n",
            "\u001b[33m   PID: 16726\u001b[0m\n",
            "\u001b[33m   SRV: conda\u001b[0m\n",
            "\u001b[0m\n",
            "\u001b[34m👉 To run model:\u001b[0m\n",
            "\u001b[34m   - run\u001b[0m\n",
            "\u001b[0m\n",
            "\u001b[34m💁 Information:\u001b[0m\n",
            "\u001b[34m   - info\u001b[0m\n"
          ]
        }
      ]
    },
    {
      "cell_type": "code",
      "source": [
        "# @title Run predictions\n",
        "api = \"calculate\"  # @param {type:\"string\"}\n",
        "\n",
        "from ersilia import ErsiliaModel\n",
        "import time\n",
        "\n",
        "model = ErsiliaModel(model_name)\n",
        "begin = time.time()\n",
        "output = model.api(input=smiles, output=\"pandas\")\n",
        "end = time.time()\n",
        "\n",
        "print(\"Successful 👍! Time taken:\", round((end - begin), 2), \"seconds\")\n",
        "model.close()"
      ],
      "metadata": {
        "id": "GIVF9nsumqf6",
        "outputId": "63b124d9-2e8a-4aa2-9d1d-577d9268bf04",
        "colab": {
          "base_uri": "https://localhost:8080/"
        }
      },
      "execution_count": 22,
      "outputs": [
        {
          "metadata": {
            "tags": null
          },
          "name": "stdout",
          "output_type": "stream",
          "text": [
            "Successful 👍! Time taken: 24.16 seconds\n"
          ]
        }
      ]
    },
    {
      "cell_type": "code",
      "source": [
        "# @title Check results\n",
        "\n",
        "print(output.head())"
      ],
      "metadata": {
        "id": "tqxgx5_rm5tS",
        "outputId": "3e778c8a-177a-432e-94ef-358057b5d91d",
        "colab": {
          "base_uri": "https://localhost:8080/"
        }
      },
      "execution_count": 23,
      "outputs": [
        {
          "output_type": "stream",
          "name": "stdout",
          "text": [
            "                           key  \\\n",
            "0  MCGSCOLBFJQGHM-SCZZXKLOSA-N   \n",
            "1  GZOSMCIZMLWJML-VJLLXTKPSA-N   \n",
            "2  BZKPWHYZMXOIDC-UHFFFAOYSA-N   \n",
            "3  QTBSBXVTEAMEQO-UHFFFAOYSA-N   \n",
            "4  PWKSKIMOESPYIA-BYPYZUCNSA-N   \n",
            "\n",
            "                                               input  RA_score  \n",
            "0      Nc1nc(NC2CC2)c2ncn([C@H]3C=C[C@@H](CO)C3)c2n1  0.371168  \n",
            "1  C[C@]12CC[C@H]3[C@@H](CC=C4C[C@@H](O)CC[C@@]43...  0.899860  \n",
            "2                         CC(=O)Nc1nnc(S(N)(=O)=O)s1  0.988999  \n",
            "3                                            CC(=O)O  0.990745  \n",
            "4                            CC(=O)N[C@@H](CS)C(=O)O  0.989271  \n"
          ]
        }
      ]
    },
    {
      "cell_type": "code",
      "source": [
        "# @title Save results in Google Drive\n",
        "\n",
        "output_path = \"%s/%s_output.csv\" % (output_folder, model_name)\n",
        "output.to_csv(output_path, index=False)"
      ],
      "metadata": {
        "id": "iLl_vEqanLEu"
      },
      "execution_count": 15,
      "outputs": []
    },
    {
      "cell_type": "code",
      "source": [
        "# @title specifying the name of my input csv file containing open repository SMILES molecules\n",
        "\n",
        "molecules_filename = \"public_repo_1000_molecules\"  # @param {type:\"string\"}"
      ],
      "metadata": {
        "cellView": "form",
        "id": "nBHdzqtQNbuD"
      },
      "execution_count": 24,
      "outputs": []
    },
    {
      "cell_type": "code",
      "source": [
        "# @title specifying the SMILES column name\n",
        "smiles_column = \"smiles\"  # @param {type:\"string\"}"
      ],
      "metadata": {
        "id": "yqNj9p2tOnxg"
      },
      "execution_count": 25,
      "outputs": []
    },
    {
      "cell_type": "code",
      "source": [
        "# @title Extract SMILES to a list\n",
        "import pandas as pd\n",
        "\n",
        "path = \"%s/%s.csv\" % (input_folder, molecules_filename)\n",
        "smi_col = \"%s\" % smiles_column\n",
        "df = pd.read_csv(path)\n",
        "smiles = df[smi_col].tolist()\n",
        "\n",
        "print(\"My dataset contains\" + \" \" + str(len(smiles)) + \" \" + \"SMILES\")"
      ],
      "metadata": {
        "id": "B-3EpP1cO1Jc",
        "outputId": "8f2c16c4-9ac8-4eff-844a-a3b117e745f1",
        "colab": {
          "base_uri": "https://localhost:8080/"
        }
      },
      "execution_count": 26,
      "outputs": [
        {
          "output_type": "stream",
          "name": "stdout",
          "text": [
            "My dataset contains 4200 SMILES\n"
          ]
        }
      ]
    },
    {
      "cell_type": "code",
      "source": [
        "# @title get Select the first 1000 rows of molecules from the DataFrame\n",
        "df_1000 = df.head(1000)\n",
        "\n",
        "# Print the number of molecules in the new DataFrame\n",
        "print(f\"New DataFrame contains {len(df_1000)} molecules.\")"
      ],
      "metadata": {
        "id": "1AtusNrcPc5n",
        "outputId": "4b9b6cf5-f502-4d25-9f72-1a534438cfed",
        "colab": {
          "base_uri": "https://localhost:8080/"
        }
      },
      "execution_count": 27,
      "outputs": [
        {
          "output_type": "stream",
          "name": "stdout",
          "text": [
            "New DataFrame contains 1000 molecules.\n"
          ]
        }
      ]
    },
    {
      "cell_type": "code",
      "source": [
        "# @title specifying the name of my output 1000 molecules file csv file\n",
        "\n",
        "output_filename = \"smiles_1000\"  # @param {type:\"string\"}"
      ],
      "metadata": {
        "id": "yxi8u6dQVzWg"
      },
      "execution_count": 32,
      "outputs": []
    },
    {
      "cell_type": "code",
      "source": [
        "import os\n",
        "!mkdir -p {output_folder}"
      ],
      "metadata": {
        "id": "QkUogbCpWpjO"
      },
      "execution_count": 35,
      "outputs": []
    },
    {
      "cell_type": "code",
      "source": [
        "# @title Save 1000 molecules subset file in Google Drive\n",
        "\n",
        "output_path = \"%s/%s_output.csv\" % (output_folder, output_filename)\n",
        "df_1000.to_csv(output_path, index=False)"
      ],
      "metadata": {
        "id": "RhOt42T-Tj3t"
      },
      "execution_count": 38,
      "outputs": []
    },
    {
      "cell_type": "code",
      "source": [
        "# @title Check if the DataFrame contains at least 1000 SMILES molecules\n",
        "if len(df_1000) >= 1000:\n",
        "    print(\"DataFrame contains at least 1000 SMILES molecules.\")\n",
        "else:\n",
        "    print(f\"DataFrame contains only {len(df)} SMILES molecules.\")"
      ],
      "metadata": {
        "id": "0zYsD85er2tw",
        "outputId": "1e9fd9de-f9a8-40c9-9807-22176d0585b2",
        "colab": {
          "base_uri": "https://localhost:8080/"
        }
      },
      "execution_count": 39,
      "outputs": [
        {
          "output_type": "stream",
          "name": "stdout",
          "text": [
            "DataFrame contains at least 1000 SMILES molecules.\n"
          ]
        }
      ]
    },
    {
      "cell_type": "code",
      "source": [
        "# @title Extract 1000 SMILES to a list\n",
        "import pandas as pd\n",
        "\n",
        "smi_col = \"%s\" % smiles_column\n",
        "smiles = df_1000[smi_col].tolist()\n",
        "\n",
        "print(\"My dataset contains\" + \" \" + str(len(smiles)) + \" \" + \"SMILES\")"
      ],
      "metadata": {
        "id": "wz7AWxcTZ83d",
        "outputId": "5a41cc96-cfb6-4d3b-abcf-06b933b050b2",
        "colab": {
          "base_uri": "https://localhost:8080/"
        }
      },
      "execution_count": 46,
      "outputs": [
        {
          "output_type": "stream",
          "name": "stdout",
          "text": [
            "My dataset contains 1000 SMILES\n"
          ]
        }
      ]
    },
    {
      "cell_type": "code",
      "source": [
        "# @title Run predictions on 1000 molecules\n",
        "api = \"calculate\"  # @param {type:\"string\"}\n",
        "\n",
        "from ersilia import ErsiliaModel\n",
        "import time\n",
        "\n",
        "model = ErsiliaModel(model_name)\n",
        "begin = time.time()\n",
        "output = model.api(input=smiles, output=\"pandas\")\n",
        "end = time.time()\n",
        "\n",
        "print(\"Successful 👍! Time taken:\", round((end - begin), 2), \"seconds\")\n",
        "model.close()"
      ],
      "metadata": {
        "id": "QVIqh0NbX8lf",
        "outputId": "1aaa7fec-55ef-456a-faf4-ff2dd8f71c93",
        "colab": {
          "base_uri": "https://localhost:8080/"
        }
      },
      "execution_count": 47,
      "outputs": [
        {
          "output_type": "stream",
          "name": "stdout",
          "text": [
            "Successful 👍! Time taken: 48.16 seconds\n"
          ]
        }
      ]
    },
    {
      "cell_type": "code",
      "source": [
        "# @title Check results\n",
        "\n",
        "print(output.head())"
      ],
      "metadata": {
        "id": "A4VOWTKWZk51",
        "outputId": "08f45d43-6e70-4698-f139-1b505d025a54",
        "colab": {
          "base_uri": "https://localhost:8080/"
        }
      },
      "execution_count": 51,
      "outputs": [
        {
          "output_type": "stream",
          "name": "stdout",
          "text": [
            "                           key  \\\n",
            "0  YKMSTUDOGGAEJH-UHFFFAOYSA-N   \n",
            "1  JCIHGZJEMNHEET-UHFFFAOYSA-N   \n",
            "2  GKTWGGQPFAXNFI-HNNXBMFYSA-N   \n",
            "3  UICNBXVDHCBKCE-PUODRLBUSA-N   \n",
            "4  UJBBWPQMJVUYPP-INIZCTEOSA-N   \n",
            "\n",
            "                                               input  RA_score  \n",
            "0            Cn1c(CN2CCN(c3ccc(Cl)cc3)CC2)nc2ccccc21  0.998334  \n",
            "1  COc1cc(OC)c(S(=O)(=O)N2c3ccccc3CCC2C)cc1NC(=O)...  0.080848  \n",
            "2              COC(=O)[C@H](c1ccccc1Cl)N1CCc2sccc2C1  0.991335  \n",
            "3  O=C(NC1Cc2ccccc2N(C[C@@H](O)CO)C1=O)c1cc2cc(Cl...  0.895327  \n",
            "4  Cc1cccc(C[C@H](NC(=O)c2cc(C(C)(C)C)nn2C)C(=O)N...  0.990068  \n"
          ]
        }
      ]
    },
    {
      "cell_type": "code",
      "source": [
        "# @title Number of molecules in predictions\n",
        "\n",
        "print(f\"The number of molecules with prediction is {str(len(output))}\")"
      ],
      "metadata": {
        "id": "ANF_0SsNks3Q",
        "outputId": "fe3b26dc-90d1-4cd3-e810-efad64214ebc",
        "colab": {
          "base_uri": "https://localhost:8080/"
        }
      },
      "execution_count": 53,
      "outputs": [
        {
          "output_type": "stream",
          "name": "stdout",
          "text": [
            "The number of molecules with prediction is 1000\n"
          ]
        }
      ]
    }
  ],
  "metadata": {
    "kernelspec": {
      "display_name": "ersilia",
      "language": "python",
      "name": "python3"
    },
    "language_info": {
      "name": "python",
      "version": "3.7.12"
    },
    "colab": {
      "provenance": [],
      "include_colab_link": true
    }
  },
  "nbformat": 4,
  "nbformat_minor": 0
}