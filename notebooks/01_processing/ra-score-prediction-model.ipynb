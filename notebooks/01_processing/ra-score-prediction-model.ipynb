{
  "cells": [
    {
      "cell_type": "markdown",
      "metadata": {
        "colab_type": "text",
        "id": "view-in-github"
      },
      "source": [
        "<a href=\"https://colab.research.google.com/github/AlphonseBrandon/machine-learning-for-chemistry/blob/development/notebooks/ra-score-prediction-model.ipynb\" target=\"_parent\"><img src=\"https://colab.research.google.com/assets/colab-badge.svg\" alt=\"Open In Colab\"/></a>"
      ]
    },
    {
      "cell_type": "markdown",
      "metadata": {},
      "source": [
        "# Outreachy Summer 2024"
      ]
    },
    {
      "cell_type": "markdown",
      "metadata": {
        "id": "wCtWqBRoen_b"
      },
      "source": [
        "### Retrosynthetic accessibility score (RAscore)"
      ]
    },
    {
      "cell_type": "code",
      "execution_count": 15,
      "metadata": {
        "cellView": "form",
        "id": "2FfwN_M4en_i"
      },
      "outputs": [],
      "source": [
        "# @title Installing Ersilia on Colab\n",
        "\n",
        "%%capture\n",
        "%env MINICONDA_INSTALLER_SCRIPT=Miniconda3-py37_4.12.0-Linux-x86_64.sh\n",
        "%env MINICONDA_PREFIX=/usr/local\n",
        "%env PYTHONPATH= \"$PYTHONPATH:/usr/local/lib/python3.7/site-packages\"\n",
        "%env PIP_ROOT_USER_ACTION=ignore\n",
        "\n",
        "!wget https://repo.anaconda.com/miniconda/$MINICONDA_INSTALLER_SCRIPT\n",
        "!chmod +x $MINICONDA_INSTALLER_SCRIPT\n",
        "!./$MINICONDA_INSTALLER_SCRIPT -b -f -p $MINICONDA_PREFIX\n",
        "\n",
        "!python -m pip install git+https://github.com/ersilia-os/ersilia.git\n",
        "!python -m pip install requests --upgrade\n",
        "import sys\n",
        "\n",
        "_ = sys.path.append(\"/usr/local/lib/python3.7/site-packages\")"
      ]
    },
    {
      "cell_type": "code",
      "execution_count": 9,
      "metadata": {
        "cellView": "form",
        "id": "SgdMp0MchaJz"
      },
      "outputs": [],
      "source": [
        "# @title Specifying my input folder\n",
        "\n",
        "# specify your input folder\n",
        "\n",
        "input_folder = \"../../data/01_raw\"  # @param {type:\"string\"}"
      ]
    },
    {
      "cell_type": "code",
      "execution_count": 10,
      "metadata": {
        "id": "INVczH1IhyRf"
      },
      "outputs": [],
      "source": [
        "# @title specify my output folder\n",
        "\n",
        "output_folder = \"../../data/02_processed\"  # @param {type:\"string\"}"
      ]
    },
    {
      "cell_type": "code",
      "execution_count": 3,
      "metadata": {
        "cellView": "form",
        "colab": {
          "base_uri": "https://localhost:8080/"
        },
        "id": "SyWH6R_Jg4_u",
        "outputId": "8eb0b121-8c53-452b-a896-55f34edab584"
      },
      "outputs": [],
      "source": [
        "# @title 🔗 Connect Colab to my Google Drive\n",
        "\n",
        "## Mount google drive\n",
        "\n",
        "# from google.colab import drive\n",
        "# drive.mount('/content/drive')"
      ]
    },
    {
      "cell_type": "code",
      "execution_count": 11,
      "metadata": {
        "cellView": "form",
        "id": "ijATpqOTjYaO"
      },
      "outputs": [],
      "source": [
        "# @title specifying the name of my input csv file\n",
        "\n",
        "input_filename = \"eml_canonical\"  # @param {type:\"string\"}"
      ]
    },
    {
      "cell_type": "code",
      "execution_count": 12,
      "metadata": {
        "cellView": "form",
        "id": "I3VQyclKjpDY"
      },
      "outputs": [],
      "source": [
        "# @title specifying the SMILES column name\n",
        "smiles_column = \"can_smiles\"  # @param {type:\"string\"}"
      ]
    },
    {
      "cell_type": "code",
      "execution_count": 13,
      "metadata": {
        "colab": {
          "base_uri": "https://localhost:8080/"
        },
        "id": "xr-WRtE0j8HL",
        "outputId": "48d76ebc-688c-4604-8f92-56b0705f7e48"
      },
      "outputs": [
        {
          "name": "stdout",
          "output_type": "stream",
          "text": [
            "My dataset contains 442 SMILES\n"
          ]
        }
      ],
      "source": [
        "# @title Extract SMILES to a list\n",
        "import pandas as pd\n",
        "\n",
        "path = \"%s/%s.csv\" % (input_folder, input_filename)\n",
        "smi_col = \"%s\" % smiles_column\n",
        "df = pd.read_csv(path)\n",
        "smiles = df[smi_col].tolist()\n",
        "\n",
        "print(\"My dataset contains\" + \" \" + str(len(smiles)) + \" \" + \"SMILES\")"
      ]
    },
    {
      "cell_type": "code",
      "execution_count": 14,
      "metadata": {
        "id": "ddio6uLAkW3o"
      },
      "outputs": [],
      "source": [
        "# @title Use the Ersilia Model Hub to run predictions for your molecules.\n",
        "\n",
        "model_name = \"eos2r5a\"  # @param {type:\"string\"}"
      ]
    },
    {
      "cell_type": "code",
      "execution_count": 15,
      "metadata": {
        "cellView": "form",
        "colab": {
          "base_uri": "https://localhost:8080/"
        },
        "id": "RqTooBbtlIyE",
        "outputId": "815a15b0-03c1-4749-9bd1-328eec3399cc"
      },
      "outputs": [
        {
          "name": "stdout",
          "output_type": "stream",
          "text": [
            "\u001b[34m⬇️  Fetching model eos2r5a: retrosynthetic-accessibility\u001b[0m\n"
          ]
        }
      ],
      "source": [
        "# @title Fetch the model\n",
        "import time\n",
        "\n",
        "begin = time.time()\n",
        "!ersilia fetch $model_name\n",
        "end = time.time()\n",
        "\n",
        "print(\"Time taken:\", round((end - begin), 2), \"seconds\")"
      ]
    },
    {
      "cell_type": "code",
      "execution_count": 43,
      "metadata": {
        "cellView": "form",
        "colab": {
          "base_uri": "https://localhost:8080/"
        },
        "id": "uipsWZXPmP2F",
        "outputId": "00324a6a-1134-446b-9e44-b1208044e239"
      },
      "outputs": [
        {
          "name": "stdout",
          "output_type": "stream",
          "text": [
            "sudo: unknown user udockerusername\r\n",
            "sudo: error initializing audit plugin sudoers_audit\r\n",
            "sudo: unknown user udockerusername\r\n",
            "sudo: error initializing audit plugin sudoers_audit\r\n",
            "\u001b[32m🚀 Serving model eos2r5a: retrosynthetic-accessibility\u001b[0m\n",
            "\u001b[0m\n",
            "\u001b[33m   URL: http://127.0.0.1:47919\u001b[0m\n",
            "\u001b[33m   PID: 16726\u001b[0m\n",
            "\u001b[33m   SRV: conda\u001b[0m\n",
            "\u001b[0m\n",
            "\u001b[34m👉 To run model:\u001b[0m\n",
            "\u001b[34m   - run\u001b[0m\n",
            "\u001b[0m\n",
            "\u001b[34m💁 Information:\u001b[0m\n",
            "\u001b[34m   - info\u001b[0m\n"
          ]
        }
      ],
      "source": [
        "# @title ⚙️ Serve the model\n",
        "\n",
        "# returns available APIs (calculate or predict)\n",
        "\n",
        "!ersilia serve $model_name"
      ]
    },
    {
      "cell_type": "code",
      "execution_count": 22,
      "metadata": {
        "colab": {
          "base_uri": "https://localhost:8080/"
        },
        "id": "GIVF9nsumqf6",
        "outputId": "63b124d9-2e8a-4aa2-9d1d-577d9268bf04"
      },
      "outputs": [
        {
          "name": "stdout",
          "output_type": "stream",
          "text": [
            "Successful 👍! Time taken: 24.16 seconds\n"
          ]
        }
      ],
      "source": [
        "# @title Run predictions\n",
        "api = \"calculate\"  # @param {type:\"string\"}\n",
        "\n",
        "from ersilia import ErsiliaModel\n",
        "import time\n",
        "\n",
        "model = ErsiliaModel(model_name)\n",
        "begin = time.time()\n",
        "output = model.api(input=smiles, output=\"pandas\")\n",
        "end = time.time()\n",
        "\n",
        "print(\"Successful 👍! Time taken:\", round((end - begin), 2), \"seconds\")\n",
        "model.close()"
      ]
    },
    {
      "cell_type": "code",
      "execution_count": 23,
      "metadata": {
        "colab": {
          "base_uri": "https://localhost:8080/"
        },
        "id": "tqxgx5_rm5tS",
        "outputId": "3e778c8a-177a-432e-94ef-358057b5d91d"
      },
      "outputs": [
        {
          "name": "stdout",
          "output_type": "stream",
          "text": [
            "                           key  \\\n",
            "0  MCGSCOLBFJQGHM-SCZZXKLOSA-N   \n",
            "1  GZOSMCIZMLWJML-VJLLXTKPSA-N   \n",
            "2  BZKPWHYZMXOIDC-UHFFFAOYSA-N   \n",
            "3  QTBSBXVTEAMEQO-UHFFFAOYSA-N   \n",
            "4  PWKSKIMOESPYIA-BYPYZUCNSA-N   \n",
            "\n",
            "                                               input  RA_score  \n",
            "0      Nc1nc(NC2CC2)c2ncn([C@H]3C=C[C@@H](CO)C3)c2n1  0.371168  \n",
            "1  C[C@]12CC[C@H]3[C@@H](CC=C4C[C@@H](O)CC[C@@]43...  0.899860  \n",
            "2                         CC(=O)Nc1nnc(S(N)(=O)=O)s1  0.988999  \n",
            "3                                            CC(=O)O  0.990745  \n",
            "4                            CC(=O)N[C@@H](CS)C(=O)O  0.989271  \n"
          ]
        }
      ],
      "source": [
        "# @title Check results\n",
        "\n",
        "print(output.head())"
      ]
    },
    {
      "cell_type": "code",
      "execution_count": 15,
      "metadata": {
        "id": "iLl_vEqanLEu"
      },
      "outputs": [],
      "source": [
        "# @title Save results in Google Drive\n",
        "\n",
        "output_path = \"%s/%s_output.csv\" % (output_folder, model_name)\n",
        "output.to_csv(output_path, index=False)"
      ]
    },
    {
      "cell_type": "code",
      "execution_count": 24,
      "metadata": {
        "cellView": "form",
        "id": "nBHdzqtQNbuD"
      },
      "outputs": [],
      "source": [
        "# @title specifying the name of my input csv file containing open repository SMILES molecules\n",
        "\n",
        "molecules_filename = \"public_repo_1000_molecules\"  # @param {type:\"string\"}"
      ]
    },
    {
      "cell_type": "code",
      "execution_count": 25,
      "metadata": {
        "id": "yqNj9p2tOnxg"
      },
      "outputs": [],
      "source": [
        "# @title specifying the SMILES column name\n",
        "smiles_column = \"smiles\"  # @param {type:\"string\"}"
      ]
    },
    {
      "cell_type": "code",
      "execution_count": 26,
      "metadata": {
        "colab": {
          "base_uri": "https://localhost:8080/"
        },
        "id": "B-3EpP1cO1Jc",
        "outputId": "8f2c16c4-9ac8-4eff-844a-a3b117e745f1"
      },
      "outputs": [
        {
          "name": "stdout",
          "output_type": "stream",
          "text": [
            "My dataset contains 4200 SMILES\n"
          ]
        }
      ],
      "source": [
        "# @title Extract SMILES to a list\n",
        "import pandas as pd\n",
        "\n",
        "path = \"%s/%s.csv\" % (input_folder, molecules_filename)\n",
        "smi_col = \"%s\" % smiles_column\n",
        "df = pd.read_csv(path)\n",
        "smiles = df[smi_col].tolist()\n",
        "\n",
        "print(\"My dataset contains\" + \" \" + str(len(smiles)) + \" \" + \"SMILES\")"
      ]
    },
    {
      "cell_type": "code",
      "execution_count": 27,
      "metadata": {
        "colab": {
          "base_uri": "https://localhost:8080/"
        },
        "id": "1AtusNrcPc5n",
        "outputId": "4b9b6cf5-f502-4d25-9f72-1a534438cfed"
      },
      "outputs": [
        {
          "name": "stdout",
          "output_type": "stream",
          "text": [
            "New DataFrame contains 1000 molecules.\n"
          ]
        }
      ],
      "source": [
        "# @title get Select the first 1000 rows of molecules from the DataFrame\n",
        "df_1000 = df.head(1000)\n",
        "\n",
        "# Print the number of molecules in the new DataFrame\n",
        "print(f\"New DataFrame contains {len(df_1000)} molecules.\")"
      ]
    },
    {
      "cell_type": "code",
      "execution_count": 32,
      "metadata": {
        "id": "yxi8u6dQVzWg"
      },
      "outputs": [],
      "source": [
        "# @title specifying the name of my output 1000 molecules file csv file\n",
        "\n",
        "output_filename = \"smiles_1000\"  # @param {type:\"string\"}"
      ]
    },
    {
      "cell_type": "code",
      "execution_count": 35,
      "metadata": {
        "id": "QkUogbCpWpjO"
      },
      "outputs": [],
      "source": [
        "import os\n",
        "!mkdir -p {output_folder}"
      ]
    },
    {
      "cell_type": "code",
      "execution_count": 38,
      "metadata": {
        "id": "RhOt42T-Tj3t"
      },
      "outputs": [],
      "source": [
        "# @title Save 1000 molecules subset file in Google Drive\n",
        "\n",
        "output_path = \"%s/%s_output.csv\" % (output_folder, output_filename)\n",
        "df_1000.to_csv(output_path, index=False)"
      ]
    },
    {
      "cell_type": "code",
      "execution_count": 39,
      "metadata": {
        "colab": {
          "base_uri": "https://localhost:8080/"
        },
        "id": "0zYsD85er2tw",
        "outputId": "1e9fd9de-f9a8-40c9-9807-22176d0585b2"
      },
      "outputs": [
        {
          "name": "stdout",
          "output_type": "stream",
          "text": [
            "DataFrame contains at least 1000 SMILES molecules.\n"
          ]
        }
      ],
      "source": [
        "# @title Check if the DataFrame contains at least 1000 SMILES molecules\n",
        "if len(df_1000) >= 1000:\n",
        "    print(\"DataFrame contains at least 1000 SMILES molecules.\")\n",
        "else:\n",
        "    print(f\"DataFrame contains only {len(df)} SMILES molecules.\")"
      ]
    },
    {
      "cell_type": "code",
      "execution_count": 46,
      "metadata": {
        "colab": {
          "base_uri": "https://localhost:8080/"
        },
        "id": "wz7AWxcTZ83d",
        "outputId": "5a41cc96-cfb6-4d3b-abcf-06b933b050b2"
      },
      "outputs": [
        {
          "name": "stdout",
          "output_type": "stream",
          "text": [
            "My dataset contains 1000 SMILES\n"
          ]
        }
      ],
      "source": [
        "# @title Extract 1000 SMILES to a list\n",
        "import pandas as pd\n",
        "\n",
        "smi_col = \"%s\" % smiles_column\n",
        "smiles = df_1000[smi_col].tolist()\n",
        "\n",
        "print(\"My dataset contains\" + \" \" + str(len(smiles)) + \" \" + \"SMILES\")"
      ]
    },
    {
      "cell_type": "code",
      "execution_count": 47,
      "metadata": {
        "colab": {
          "base_uri": "https://localhost:8080/"
        },
        "id": "QVIqh0NbX8lf",
        "outputId": "1aaa7fec-55ef-456a-faf4-ff2dd8f71c93"
      },
      "outputs": [
        {
          "name": "stdout",
          "output_type": "stream",
          "text": [
            "Successful 👍! Time taken: 48.16 seconds\n"
          ]
        }
      ],
      "source": [
        "# @title Run predictions on 1000 molecules\n",
        "api = \"calculate\"  # @param {type:\"string\"}\n",
        "\n",
        "from ersilia import ErsiliaModel\n",
        "import time\n",
        "\n",
        "model = ErsiliaModel(model_name)\n",
        "begin = time.time()\n",
        "output = model.api(input=smiles, output=\"pandas\")\n",
        "end = time.time()\n",
        "\n",
        "print(\"Successful 👍! Time taken:\", round((end - begin), 2), \"seconds\")\n",
        "model.close()"
      ]
    },
    {
      "cell_type": "code",
      "execution_count": 51,
      "metadata": {
        "colab": {
          "base_uri": "https://localhost:8080/"
        },
        "id": "A4VOWTKWZk51",
        "outputId": "08f45d43-6e70-4698-f139-1b505d025a54"
      },
      "outputs": [
        {
          "name": "stdout",
          "output_type": "stream",
          "text": [
            "                           key  \\\n",
            "0  YKMSTUDOGGAEJH-UHFFFAOYSA-N   \n",
            "1  JCIHGZJEMNHEET-UHFFFAOYSA-N   \n",
            "2  GKTWGGQPFAXNFI-HNNXBMFYSA-N   \n",
            "3  UICNBXVDHCBKCE-PUODRLBUSA-N   \n",
            "4  UJBBWPQMJVUYPP-INIZCTEOSA-N   \n",
            "\n",
            "                                               input  RA_score  \n",
            "0            Cn1c(CN2CCN(c3ccc(Cl)cc3)CC2)nc2ccccc21  0.998334  \n",
            "1  COc1cc(OC)c(S(=O)(=O)N2c3ccccc3CCC2C)cc1NC(=O)...  0.080848  \n",
            "2              COC(=O)[C@H](c1ccccc1Cl)N1CCc2sccc2C1  0.991335  \n",
            "3  O=C(NC1Cc2ccccc2N(C[C@@H](O)CO)C1=O)c1cc2cc(Cl...  0.895327  \n",
            "4  Cc1cccc(C[C@H](NC(=O)c2cc(C(C)(C)C)nn2C)C(=O)N...  0.990068  \n"
          ]
        }
      ],
      "source": [
        "# @title Check results\n",
        "\n",
        "print(output.head())"
      ]
    },
    {
      "cell_type": "code",
      "execution_count": 53,
      "metadata": {
        "colab": {
          "base_uri": "https://localhost:8080/"
        },
        "id": "ANF_0SsNks3Q",
        "outputId": "fe3b26dc-90d1-4cd3-e810-efad64214ebc"
      },
      "outputs": [
        {
          "name": "stdout",
          "output_type": "stream",
          "text": [
            "The number of molecules with prediction is 1000\n"
          ]
        }
      ],
      "source": [
        "# @title Number of molecules in predictions\n",
        "\n",
        "print(f\"The number of molecules with prediction is {str(len(output))}\")"
      ]
    },
    {
      "cell_type": "markdown",
      "metadata": {
        "id": "JsmPSXkyqpHT"
      },
      "source": [
        "Since the eos2r5a model is a pretrained retrosynthetic accessibility score, the score it outputs for each molecule represents the predicted difficulty of synthesizing that molecule."
      ]
    },
    {
      "cell_type": "code",
      "execution_count": null,
      "metadata": {
        "id": "3q1LWew4q-Vg"
      },
      "outputs": [],
      "source": []
    },
    {
      "cell_type": "markdown",
      "metadata": {
        "id": "83UItxDXrzx5"
      },
      "source": [
        "# Histogram of Scores:\n",
        "This plot would show the distribution of scores across the 1000 molecules. This information could be used to identify molecules with particularly high or low accessibility scores."
      ]
    },
    {
      "cell_type": "code",
      "execution_count": 54,
      "metadata": {
        "colab": {
          "base_uri": "https://localhost:8080/"
        },
        "id": "nB5zvwLZrEc8",
        "outputId": "c0d7f507-80ba-43ae-9691-9e5fabacd57c"
      },
      "outputs": [
        {
          "name": "stdout",
          "output_type": "stream",
          "text": [
            "Collecting matplotlib\n",
            "  Downloading matplotlib-3.5.3-cp37-cp37m-manylinux_2_5_x86_64.manylinux1_x86_64.whl (11.2 MB)\n",
            "\u001b[K     |████████████████████████████████| 11.2 MB 12.2 MB/s \n",
            "\u001b[?25hCollecting cycler>=0.10\n",
            "  Downloading cycler-0.11.0-py3-none-any.whl (6.4 kB)\n",
            "Collecting kiwisolver>=1.0.1\n",
            "  Downloading kiwisolver-1.4.5-cp37-cp37m-manylinux_2_5_x86_64.manylinux1_x86_64.whl (1.1 MB)\n",
            "\u001b[K     |████████████████████████████████| 1.1 MB 51.1 MB/s \n",
            "\u001b[?25hCollecting fonttools>=4.22.0\n",
            "  Downloading fonttools-4.38.0-py3-none-any.whl (965 kB)\n",
            "\u001b[K     |████████████████████████████████| 965 kB 59.2 MB/s \n",
            "\u001b[?25hRequirement already satisfied: packaging>=20.0 in /usr/local/lib/python3.7/site-packages (from matplotlib) (23.2)\n",
            "Collecting pyparsing>=2.2.1\n",
            "  Downloading pyparsing-3.1.2-py3-none-any.whl (103 kB)\n",
            "\u001b[K     |████████████████████████████████| 103 kB 52.2 MB/s \n",
            "\u001b[?25hRequirement already satisfied: numpy>=1.17 in /usr/local/lib/python3.7/site-packages (from matplotlib) (1.21.6)\n",
            "Requirement already satisfied: pillow>=6.2.0 in /usr/local/lib/python3.7/site-packages (from matplotlib) (9.5.0)\n",
            "Requirement already satisfied: python-dateutil>=2.7 in /usr/local/lib/python3.7/site-packages (from matplotlib) (2.9.0.post0)\n",
            "Requirement already satisfied: typing-extensions in /usr/local/lib/python3.7/site-packages (from kiwisolver>=1.0.1->matplotlib) (4.7.1)\n",
            "Requirement already satisfied: six>=1.5 in /usr/local/lib/python3.7/site-packages (from python-dateutil>=2.7->matplotlib) (1.16.0)\n",
            "Installing collected packages: pyparsing, kiwisolver, fonttools, cycler, matplotlib\n",
            "Successfully installed cycler-0.11.0 fonttools-4.38.0 kiwisolver-1.4.5 matplotlib-3.5.3 pyparsing-3.1.2\n",
            "\u001b[33mWARNING: Running pip as the 'root' user can result in broken permissions and conflicting behaviour with the system package manager. It is recommended to use a virtual environment instead: https://pip.pypa.io/warnings/venv\u001b[0m\n"
          ]
        },
        {
          "data": {
            "application/vnd.colab-display-data+json": {
              "id": "f16ca72b16a84d96a1a357790925ba1e",
              "pip_warning": {
                "packages": [
                  "kiwisolver"
                ]
              }
            }
          },
          "metadata": {},
          "output_type": "display_data"
        },
        {
          "data": {
            "image/png": "[encoded data removed]",
            "text/plain": [
              "<Figure size 640x480 with 1 Axes>"
            ]
          },
          "metadata": {},
          "output_type": "display_data"
        }
      ],
      "source": [
        "# @title Histogram of scores\n",
        "\n",
        "!pip install matplotlib\n",
        "import matplotlib.pyplot as plt\n",
        "\n",
        "plt.hist(output[\"RA_score\"], bins=100)\n",
        "plt.xlabel(\"Score\")\n",
        "plt.ylabel(\"Number of molecules\")\n",
        "plt.title(\"Histogram of retrosynthetic accessibility scores\")\n",
        "plt.show()"
      ]
    },
    {
      "cell_type": "code",
      "execution_count": 76,
      "metadata": {
        "colab": {
          "base_uri": "https://localhost:8080/"
        },
        "id": "W3IeSRvnsuHw",
        "outputId": "fe871050-4f84-4e31-e827-e631def23534"
      },
      "outputs": [
        {
          "data": {
            "image/png": "[encoded data removed]",
            "text/plain": [
              "<Figure size 640x480 with 1 Axes>"
            ]
          },
          "metadata": {},
          "output_type": "display_data"
        }
      ],
      "source": [
        "# @title Bar plot of top predicted molecules\n",
        "output = output.sort_values(by=\"RA_score\", ascending=False).head(10)\n",
        "plt.bar(output[\"input\"], output[\"RA_score\"])\n",
        "plt.xlabel(\"Molecule Name\")\n",
        "plt.ylabel(\"Predicted Score\")\n",
        "plt.title(\"Top 10 Molecules with Highest Scores\")\n",
        "plt.xticks(rotation=90)\n",
        "plt.show()"
      ]
    },
    {
      "cell_type": "code",
      "execution_count": 73,
      "metadata": {
        "colab": {
          "base_uri": "https://localhost:8080/"
        },
        "id": "wp4AG83exFJA",
        "outputId": "7a516317-e9b5-4b55-efc8-350bb15de113"
      },
      "outputs": [
        {
          "data": {
            "application/vnd.google.colaboratory.intrinsic+json": {
              "summary": "{\n  \"name\": \"output\",\n  \"rows\": 1000,\n  \"fields\": [\n    {\n      \"column\": \"key\",\n      \"properties\": {\n        \"dtype\": \"string\",\n        \"num_unique_values\": 1000,\n        \"samples\": [\n          \"YGCPMTVIAJZRNZ-UHFFFAOYSA-N\",\n          \"FEOIBPWKGPFSTB-UHFFFAOYSA-N\",\n          \"VDQATBOWGVKJCS-UGKGYDQZSA-N\"\n        ],\n        \"semantic_type\": \"\",\n        \"description\": \"\"\n      }\n    },\n    {\n      \"column\": \"input\",\n      \"properties\": {\n        \"dtype\": \"string\",\n        \"num_unique_values\": 1000,\n        \"samples\": [\n          \"O=c1cc(N2CCOCC2)nc2n(Cc3cccc(Cl)c3Cl)ccn12\",\n          \"O=C(NCc1ccncc1)c1ccc(Oc2ccc(C#CC3(O)CN4CCC3CC4)cc2)cc1\",\n          \"CC[C@@H](c1ccc(C(=O)O)c(Oc2cccc(Cl)c2)c1)N1CCC[C@H](n2cc(C)c(=O)[nH]c2=O)C1\"\n        ],\n        \"semantic_type\": \"\",\n        \"description\": \"\"\n      }\n    },\n    {\n      \"column\": \"RA_score\",\n      \"properties\": {\n        \"dtype\": \"float32\",\n        \"num_unique_values\": 990,\n        \"samples\": [\n          0.9930638670921326,\n          0.9745057821273804,\n          0.9888407588005066\n        ],\n        \"semantic_type\": \"\",\n        \"description\": \"\"\n      }\n    }\n  ]\n}",
              "type": "dataframe",
              "variable_name": "output"
            },
            "text/html": [
              "\n",
              "  <div id=\"df-01f03a84-9871-4045-9338-5a3e295de25e\" class=\"colab-df-container\">\n",
              "    <div>\n",
              "<style scoped>\n",
              "    .dataframe tbody tr th:only-of-type {\n",
              "        vertical-align: middle;\n",
              "    }\n",
              "\n",
              "    .dataframe tbody tr th {\n",
              "        vertical-align: top;\n",
              "    }\n",
              "\n",
              "    .dataframe thead th {\n",
              "        text-align: right;\n",
              "    }\n",
              "</style>\n",
              "<table border=\"1\" class=\"dataframe\">\n",
              "  <thead>\n",
              "    <tr style=\"text-align: right;\">\n",
              "      <th></th>\n",
              "      <th>key</th>\n",
              "      <th>input</th>\n",
              "      <th>RA_score</th>\n",
              "    </tr>\n",
              "  </thead>\n",
              "  <tbody>\n",
              "    <tr>\n",
              "      <th>0</th>\n",
              "      <td>YKMSTUDOGGAEJH-UHFFFAOYSA-N</td>\n",
              "      <td>Cn1c(CN2CCN(c3ccc(Cl)cc3)CC2)nc2ccccc21</td>\n",
              "      <td>0.998334</td>\n",
              "    </tr>\n",
              "    <tr>\n",
              "      <th>1</th>\n",
              "      <td>JCIHGZJEMNHEET-UHFFFAOYSA-N</td>\n",
              "      <td>COc1cc(OC)c(S(=O)(=O)N2c3ccccc3CCC2C)cc1NC(=O)...</td>\n",
              "      <td>0.080848</td>\n",
              "    </tr>\n",
              "    <tr>\n",
              "      <th>2</th>\n",
              "      <td>GKTWGGQPFAXNFI-HNNXBMFYSA-N</td>\n",
              "      <td>COC(=O)[C@H](c1ccccc1Cl)N1CCc2sccc2C1</td>\n",
              "      <td>0.991335</td>\n",
              "    </tr>\n",
              "    <tr>\n",
              "      <th>3</th>\n",
              "      <td>UICNBXVDHCBKCE-PUODRLBUSA-N</td>\n",
              "      <td>O=C(NC1Cc2ccccc2N(C[C@@H](O)CO)C1=O)c1cc2cc(Cl...</td>\n",
              "      <td>0.895327</td>\n",
              "    </tr>\n",
              "    <tr>\n",
              "      <th>4</th>\n",
              "      <td>UJBBWPQMJVUYPP-INIZCTEOSA-N</td>\n",
              "      <td>Cc1cccc(C[C@H](NC(=O)c2cc(C(C)(C)C)nn2C)C(=O)N...</td>\n",
              "      <td>0.990068</td>\n",
              "    </tr>\n",
              "  </tbody>\n",
              "</table>\n",
              "</div>\n",
              "    <div class=\"colab-df-buttons\">\n",
              "\n",
              "  <div class=\"colab-df-container\">\n",
              "    <button class=\"colab-df-convert\" onclick=\"convertToInteractive('df-01f03a84-9871-4045-9338-5a3e295de25e')\"\n",
              "            title=\"Convert this dataframe to an interactive table.\"\n",
              "            style=\"display:none;\">\n",
              "\n",
              "  <svg xmlns=\"http://www.w3.org/2000/svg\" height=\"24px\" viewBox=\"0 -960 960 960\">\n",
              "    <path d=\"M120-120v-720h720v720H120Zm60-500h600v-160H180v160Zm220 220h160v-160H400v160Zm0 220h160v-160H400v160ZM180-400h160v-160H180v160Zm440 0h160v-160H620v160ZM180-180h160v-160H180v160Zm440 0h160v-160H620v160Z\"/>\n",
              "  </svg>\n",
              "    </button>\n",
              "\n",
              "  <style>\n",
              "    .colab-df-container {\n",
              "      display:flex;\n",
              "      gap: 12px;\n",
              "    }\n",
              "\n",
              "    .colab-df-convert {\n",
              "      background-color: #E8F0FE;\n",
              "      border: none;\n",
              "      border-radius: 50%;\n",
              "      cursor: pointer;\n",
              "      display: none;\n",
              "      fill: #1967D2;\n",
              "      height: 32px;\n",
              "      padding: 0 0 0 0;\n",
              "      width: 32px;\n",
              "    }\n",
              "\n",
              "    .colab-df-convert:hover {\n",
              "      background-color: #E2EBFA;\n",
              "      box-shadow: 0px 1px 2px rgba(60, 64, 67, 0.3), 0px 1px 3px 1px rgba(60, 64, 67, 0.15);\n",
              "      fill: #174EA6;\n",
              "    }\n",
              "\n",
              "    .colab-df-buttons div {\n",
              "      margin-bottom: 4px;\n",
              "    }\n",
              "\n",
              "    [theme=dark] .colab-df-convert {\n",
              "      background-color: #3B4455;\n",
              "      fill: #D2E3FC;\n",
              "    }\n",
              "\n",
              "    [theme=dark] .colab-df-convert:hover {\n",
              "      background-color: #434B5C;\n",
              "      box-shadow: 0px 1px 3px 1px rgba(0, 0, 0, 0.15);\n",
              "      filter: drop-shadow(0px 1px 2px rgba(0, 0, 0, 0.3));\n",
              "      fill: #FFFFFF;\n",
              "    }\n",
              "  </style>\n",
              "\n",
              "    <script>\n",
              "      const buttonEl =\n",
              "        document.querySelector('#df-01f03a84-9871-4045-9338-5a3e295de25e button.colab-df-convert');\n",
              "      buttonEl.style.display =\n",
              "        google.colab.kernel.accessAllowed ? 'block' : 'none';\n",
              "\n",
              "      async function convertToInteractive(key) {\n",
              "        const element = document.querySelector('#df-01f03a84-9871-4045-9338-5a3e295de25e');\n",
              "        const dataTable =\n",
              "          await google.colab.kernel.invokeFunction('convertToInteractive',\n",
              "                                                    [key], {});\n",
              "        if (!dataTable) return;\n",
              "\n",
              "        const docLinkHtml = 'Like what you see? Visit the ' +\n",
              "          '<a target=\"_blank\" href=https://colab.research.google.com/notebooks/data_table.ipynb>data table notebook</a>'\n",
              "          + ' to learn more about interactive tables.';\n",
              "        element.innerHTML = '';\n",
              "        dataTable['output_type'] = 'display_data';\n",
              "        await google.colab.output.renderOutput(dataTable, element);\n",
              "        const docLink = document.createElement('div');\n",
              "        docLink.innerHTML = docLinkHtml;\n",
              "        element.appendChild(docLink);\n",
              "      }\n",
              "    </script>\n",
              "  </div>\n",
              "\n",
              "\n",
              "<div id=\"df-d36ad5ce-717e-4f04-a422-c868d393fcd2\">\n",
              "  <button class=\"colab-df-quickchart\" onclick=\"quickchart('df-d36ad5ce-717e-4f04-a422-c868d393fcd2')\"\n",
              "            title=\"Suggest charts\"\n",
              "            style=\"display:none;\">\n",
              "\n",
              "<svg xmlns=\"http://www.w3.org/2000/svg\" height=\"24px\"viewBox=\"0 0 24 24\"\n",
              "     width=\"24px\">\n",
              "    <g>\n",
              "        <path d=\"M19 3H5c-1.1 0-2 .9-2 2v14c0 1.1.9 2 2 2h14c1.1 0 2-.9 2-2V5c0-1.1-.9-2-2-2zM9 17H7v-7h2v7zm4 0h-2V7h2v10zm4 0h-2v-4h2v4z\"/>\n",
              "    </g>\n",
              "</svg>\n",
              "  </button>\n",
              "\n",
              "<style>\n",
              "  .colab-df-quickchart {\n",
              "      --bg-color: #E8F0FE;\n",
              "      --fill-color: #1967D2;\n",
              "      --hover-bg-color: #E2EBFA;\n",
              "      --hover-fill-color: #174EA6;\n",
              "      --disabled-fill-color: #AAA;\n",
              "      --disabled-bg-color: #DDD;\n",
              "  }\n",
              "\n",
              "  [theme=dark] .colab-df-quickchart {\n",
              "      --bg-color: #3B4455;\n",
              "      --fill-color: #D2E3FC;\n",
              "      --hover-bg-color: #434B5C;\n",
              "      --hover-fill-color: #FFFFFF;\n",
              "      --disabled-bg-color: #3B4455;\n",
              "      --disabled-fill-color: #666;\n",
              "  }\n",
              "\n",
              "  .colab-df-quickchart {\n",
              "    background-color: var(--bg-color);\n",
              "    border: none;\n",
              "    border-radius: 50%;\n",
              "    cursor: pointer;\n",
              "    display: none;\n",
              "    fill: var(--fill-color);\n",
              "    height: 32px;\n",
              "    padding: 0;\n",
              "    width: 32px;\n",
              "  }\n",
              "\n",
              "  .colab-df-quickchart:hover {\n",
              "    background-color: var(--hover-bg-color);\n",
              "    box-shadow: 0 1px 2px rgba(60, 64, 67, 0.3), 0 1px 3px 1px rgba(60, 64, 67, 0.15);\n",
              "    fill: var(--button-hover-fill-color);\n",
              "  }\n",
              "\n",
              "  .colab-df-quickchart-complete:disabled,\n",
              "  .colab-df-quickchart-complete:disabled:hover {\n",
              "    background-color: var(--disabled-bg-color);\n",
              "    fill: var(--disabled-fill-color);\n",
              "    box-shadow: none;\n",
              "  }\n",
              "\n",
              "  .colab-df-spinner {\n",
              "    border: 2px solid var(--fill-color);\n",
              "    border-color: transparent;\n",
              "    border-bottom-color: var(--fill-color);\n",
              "    animation:\n",
              "      spin 1s steps(1) infinite;\n",
              "  }\n",
              "\n",
              "  @keyframes spin {\n",
              "    0% {\n",
              "      border-color: transparent;\n",
              "      border-bottom-color: var(--fill-color);\n",
              "      border-left-color: var(--fill-color);\n",
              "    }\n",
              "    20% {\n",
              "      border-color: transparent;\n",
              "      border-left-color: var(--fill-color);\n",
              "      border-top-color: var(--fill-color);\n",
              "    }\n",
              "    30% {\n",
              "      border-color: transparent;\n",
              "      border-left-color: var(--fill-color);\n",
              "      border-top-color: var(--fill-color);\n",
              "      border-right-color: var(--fill-color);\n",
              "    }\n",
              "    40% {\n",
              "      border-color: transparent;\n",
              "      border-right-color: var(--fill-color);\n",
              "      border-top-color: var(--fill-color);\n",
              "    }\n",
              "    60% {\n",
              "      border-color: transparent;\n",
              "      border-right-color: var(--fill-color);\n",
              "    }\n",
              "    80% {\n",
              "      border-color: transparent;\n",
              "      border-right-color: var(--fill-color);\n",
              "      border-bottom-color: var(--fill-color);\n",
              "    }\n",
              "    90% {\n",
              "      border-color: transparent;\n",
              "      border-bottom-color: var(--fill-color);\n",
              "    }\n",
              "  }\n",
              "</style>\n",
              "\n",
              "  <script>\n",
              "    async function quickchart(key) {\n",
              "      const quickchartButtonEl =\n",
              "        document.querySelector('#' + key + ' button');\n",
              "      quickchartButtonEl.disabled = true;  // To prevent multiple clicks.\n",
              "      quickchartButtonEl.classList.add('colab-df-spinner');\n",
              "      try {\n",
              "        const charts = await google.colab.kernel.invokeFunction(\n",
              "            'suggestCharts', [key], {});\n",
              "      } catch (error) {\n",
              "        console.error('Error during call to suggestCharts:', error);\n",
              "      }\n",
              "      quickchartButtonEl.classList.remove('colab-df-spinner');\n",
              "      quickchartButtonEl.classList.add('colab-df-quickchart-complete');\n",
              "    }\n",
              "    (() => {\n",
              "      let quickchartButtonEl =\n",
              "        document.querySelector('#df-d36ad5ce-717e-4f04-a422-c868d393fcd2 button');\n",
              "      quickchartButtonEl.style.display =\n",
              "        google.colab.kernel.accessAllowed ? 'block' : 'none';\n",
              "    })();\n",
              "  </script>\n",
              "</div>\n",
              "\n",
              "    </div>\n",
              "  </div>\n"
            ],
            "text/plain": [
              "                           key  \\\n",
              "0  YKMSTUDOGGAEJH-UHFFFAOYSA-N   \n",
              "1  JCIHGZJEMNHEET-UHFFFAOYSA-N   \n",
              "2  GKTWGGQPFAXNFI-HNNXBMFYSA-N   \n",
              "3  UICNBXVDHCBKCE-PUODRLBUSA-N   \n",
              "4  UJBBWPQMJVUYPP-INIZCTEOSA-N   \n",
              "\n",
              "                                               input  RA_score  \n",
              "0            Cn1c(CN2CCN(c3ccc(Cl)cc3)CC2)nc2ccccc21  0.998334  \n",
              "1  COc1cc(OC)c(S(=O)(=O)N2c3ccccc3CCC2C)cc1NC(=O)...  0.080848  \n",
              "2              COC(=O)[C@H](c1ccccc1Cl)N1CCc2sccc2C1  0.991335  \n",
              "3  O=C(NC1Cc2ccccc2N(C[C@@H](O)CO)C1=O)c1cc2cc(Cl...  0.895327  \n",
              "4  Cc1cccc(C[C@H](NC(=O)c2cc(C(C)(C)C)nn2C)C(=O)N...  0.990068  "
            ]
          },
          "execution_count": 73,
          "metadata": {},
          "output_type": "execute_result"
        }
      ],
      "source": [
        "output.head()"
      ]
    },
    {
      "cell_type": "code",
      "execution_count": 77,
      "metadata": {
        "cellView": "form",
        "colab": {
          "base_uri": "https://localhost:8080/"
        },
        "id": "aNGCS7_cyGqy",
        "outputId": "e864ebd1-51cd-46e3-ea3b-8c75d203740a"
      },
      "outputs": [
        {
          "data": {
            "image/png": "[encoded data removed]",
            "text/plain": [
              "<Figure size 640x480 with 1 Axes>"
            ]
          },
          "metadata": {},
          "output_type": "display_data"
        }
      ],
      "source": [
        "# @title RA_score\n",
        "\n",
        "from matplotlib import pyplot as plt\n",
        "output['RA_score'].plot(kind='hist', bins=20, title='RA_score')\n",
        "plt.gca().spines[['top', 'right',]].set_visible(False)"
      ]
    },
    {
      "cell_type": "code",
      "execution_count": 75,
      "metadata": {
        "colab": {
          "base_uri": "https://localhost:8080/"
        },
        "id": "J27pkAwxx34M",
        "outputId": "2350419d-220c-46c3-a491-8f05567bf81f"
      },
      "outputs": [
        {
          "data": {
            "image/png": "[encoded data removed]",
            "text/plain": [
              "<Figure size 800x400 with 1 Axes>"
            ]
          },
          "metadata": {},
          "output_type": "display_data"
        }
      ],
      "source": [
        "# @title RA_score\n",
        "\n",
        "from matplotlib import pyplot as plt\n",
        "output['RA_score'].plot(kind='line', figsize=(8, 4), title='RA_score')\n",
        "plt.gca().spines[['top', 'right']].set_visible(False)"
      ]
    },
    {
      "cell_type": "markdown",
      "metadata": {
        "id": "WRmdtnmSzVkS"
      },
      "source": [
        "# The RA_Scores\n",
        "\n",
        "The RA_score plot shows the distribution of predicted retrosynthetic accessibility scores for a set of molecules. The x-axis represents the molecule index, while the y-axis represents the predicted score.\n",
        "\n",
        "Observations:\n",
        "\n",
        "Range of scores: The scores range from approximately 1 to 6, indicating that there is a wide range of predicted accessibility among the molecules in the dataset.\n",
        "Distribution: The distribution of scores appears to be roughly bimodal, with one peak around 2 and another around 4. This suggests that there are two main groups of molecules in the dataset: those that are predicted to be highly accessible and those that are predicted to be less accessible.\n",
        "Outliers: There are a few molecules with very high scores (above 5). These molecules may be of particular interest as they are predicted to be exceptionally easy to synthesize.\n",
        "Overall trend: There does not appear to be any clear trend in the scores across the dataset. This suggests that the predicted accessibility is not strongly correlated with the order of the molecules in the dataset.\n",
        "Interpretation:\n",
        "\n",
        "Based on these observations, we can conclude that:\n",
        "\n",
        "The dataset contains a diverse set of molecules with varying degrees of predicted synthetic accessibility.\n",
        "There are a small number of molecules that are predicted to be exceptionally easy to synthesize.\n",
        "The predicted accessibility does not appear to be strongly correlated with the order of the molecules in the dataset."
      ]
    }
  ],
  "metadata": {
    "colab": {
      "include_colab_link": true,
      "provenance": []
    },
    "kernelspec": {
      "display_name": "ersilia",
      "language": "python",
      "name": "python3"
    },
    "language_info": {
      "codemirror_mode": {
        "name": "ipython",
        "version": 3
      },
      "file_extension": ".py",
      "mimetype": "text/x-python",
      "name": "python",
      "nbconvert_exporter": "python",
      "pygments_lexer": "ipython3",
      "version": "3.7.12"
    }
  },
  "nbformat": 4,
  "nbformat_minor": 0
}
